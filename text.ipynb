{
 "cells": [
  {
   "cell_type": "markdown",
   "id": "8e443ce0",
   "metadata": {},
   "source": [
    "# CARD TEXT"
   ]
  },
  {
   "cell_type": "markdown",
   "id": "00e46277",
   "metadata": {},
   "source": [
    "### Top ten longest card names"
   ]
  },
  {
   "cell_type": "code",
   "execution_count": null,
   "id": "f1392fc8",
   "metadata": {},
   "outputs": [],
   "source": [
    "\n",
    "# - Pulled the bulk Oracle data into Excel\n",
    "# - Used len on the oracle_text column and sorted values in descending order\n",
    "# - Removed tokens, only cards legal in the Commander format\n",
    "# - Oracle text includes reminder text, part of the reason that some of the older cards appear in the top ten is\n",
    "# that abilities such as \"Banding\" come with very long reminder text"
   ]
  },
  {
   "cell_type": "markdown",
   "id": "e9d29155",
   "metadata": {},
   "source": [
    "### https://datawrapper.dwcdn.net/ELKBQ/1/"
   ]
  },
  {
   "cell_type": "code",
   "execution_count": null,
   "id": "c3da241c",
   "metadata": {},
   "outputs": [],
   "source": [
    "# https://scryfall.com/docs/api/cards\n",
    "\n",
    "# keywords\n",
    "# oracle_text\n",
    "# released_at\n",
    "# set_uri"
   ]
  },
  {
   "cell_type": "code",
   "execution_count": null,
   "id": "1e52511f",
   "metadata": {},
   "outputs": [],
   "source": [
    "# text analysis of unique words through new sentiment analysis tool?"
   ]
  },
  {
   "cell_type": "code",
   "execution_count": null,
   "id": "db4ca23c",
   "metadata": {},
   "outputs": [],
   "source": [
    "# RECEIVING FOLLOW ERROR, MOVED THIS PORTION TO GOOGLE SHEETS TO COMPLETE THE TEXT LENGTH ANALYSIS\n",
    "\n",
    "# IOPub data rate exceeded.\n",
    "# The notebook server will temporarily stop sending output\n",
    "# to the client in order to avoid crashing it.\n",
    "# To change this limit, set the config variable\n",
    "# `--NotebookApp.iopub_data_rate_limit`.\n",
    "\n",
    "# Current values:\n",
    "# NotebookApp.iopub_data_rate_limit=1000000.0 (bytes/sec)\n",
    "# NotebookApp.rate_limit_window=3.0 (secs)"
   ]
  },
  {
   "cell_type": "markdown",
   "id": "650bbfdf",
   "metadata": {},
   "source": [
    "### Average length of text on cards (2020-present)"
   ]
  },
  {
   "cell_type": "code",
   "execution_count": null,
   "id": "b7486f81",
   "metadata": {},
   "outputs": [],
   "source": [
    "# Average = 164.785567\n",
    "# Median = 157"
   ]
  },
  {
   "cell_type": "markdown",
   "id": "65cce581",
   "metadata": {},
   "source": [
    "### Average length of text on cards (1993-present)"
   ]
  },
  {
   "cell_type": "code",
   "execution_count": null,
   "id": "ff539a3b",
   "metadata": {},
   "outputs": [],
   "source": [
    "# Average = 139.5001903\n",
    "# Median = 128"
   ]
  },
  {
   "cell_type": "markdown",
   "id": "4df33921",
   "metadata": {},
   "source": [
    "### Average length of cards 2003-2012 vs 2013-2022"
   ]
  },
  {
   "cell_type": "code",
   "execution_count": null,
   "id": "0c568569",
   "metadata": {},
   "outputs": [],
   "source": [
    "# decade\tAVERAGE of len\n",
    "# 1993-2002\t136.7328061\n",
    "# 2003-2012\t130.766651\n",
    "# 2013-2022\t149.8636972"
   ]
  },
  {
   "cell_type": "markdown",
   "id": "f8c05818",
   "metadata": {},
   "source": [
    "### Average length of text on cards by year"
   ]
  },
  {
   "cell_type": "code",
   "execution_count": null,
   "id": "cb86fea7",
   "metadata": {},
   "outputs": [],
   "source": [
    "# - Length of text on cards appears longer earlier because of longer reminder text\n",
    "# - Better comparison of the last decade to the current decade, more modern fair comparison\n",
    "# - Output from \"TEXT LENGTH BY YEAR\" tab in Google Sheets\n",
    "\n",
    "# year\tAVERAGE of len\n",
    "# 1993\t209.25\n",
    "# 1994\t164.86\n",
    "# 1995\t162.23\n",
    "# 1996\t158.99\n",
    "# 1997\t135.30\n",
    "# 1998\t130.08\n",
    "# 1999\t99.69\n",
    "# 2000\t120.23\n",
    "# 2001\t122.99\n",
    "# 2002\t142.06\n",
    "# 2003\t124.16\n",
    "# 2004\t136.24\n",
    "# 2005\t123.01\n",
    "# 2006\t153.24\n",
    "# 2007\t143.24\n",
    "# 2008\t139.66\n",
    "# 2009\t120.83\n",
    "# 2010\t131.51\n",
    "# 2011\t117.97\n",
    "# 2012\t127.51\n",
    "# 2013\t133.11\n",
    "# 2014\t138.06\n",
    "# 2015\t139.17\n",
    "# 2016\t139.26\n",
    "# 2017\t141.02\n",
    "# 2018\t140.00\n",
    "# 2019\t142.10\n",
    "# 2020\t144.07\n",
    "# 2021\t142.48\n",
    "# 2022\t160.28"
   ]
  },
  {
   "cell_type": "markdown",
   "id": "2a096789",
   "metadata": {},
   "source": [
    "# NICE TO HAVE"
   ]
  },
  {
   "cell_type": "code",
   "execution_count": null,
   "id": "a023837c",
   "metadata": {},
   "outputs": [],
   "source": [
    "# Unique text on cards (look at new nltk tool)"
   ]
  }
 ],
 "metadata": {
  "kernelspec": {
   "display_name": "Python 3 (ipykernel)",
   "language": "python",
   "name": "python3"
  },
  "language_info": {
   "codemirror_mode": {
    "name": "ipython",
    "version": 3
   },
   "file_extension": ".py",
   "mimetype": "text/x-python",
   "name": "python",
   "nbconvert_exporter": "python",
   "pygments_lexer": "ipython3",
   "version": "3.10.3"
  }
 },
 "nbformat": 4,
 "nbformat_minor": 5
}
