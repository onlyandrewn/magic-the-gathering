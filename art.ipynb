{
 "cells": [
  {
   "cell_type": "markdown",
   "id": "84ad32f6",
   "metadata": {},
   "source": [
    "# CARD ART"
   ]
  },
  {
   "cell_type": "code",
   "execution_count": 2,
   "id": "e9962be3",
   "metadata": {},
   "outputs": [
    {
     "name": "stderr",
     "output_type": "stream",
     "text": [
      "/Users/onlyandrewn/.pyenv/versions/3.10.3/lib/python3.10/site-packages/requests/__init__.py:109: RequestsDependencyWarning: urllib3 (1.26.9) or chardet (5.0.0)/charset_normalizer (2.0.12) doesn't match a supported version!\n",
      "  warnings.warn(\n"
     ]
    }
   ],
   "source": [
    "import pandas as pd\n",
    "import requests"
   ]
  },
  {
   "cell_type": "markdown",
   "id": "51728075",
   "metadata": {},
   "source": [
    "### Number of cards with showcase frames"
   ]
  },
  {
   "cell_type": "code",
   "execution_count": 4,
   "id": "b2b06408",
   "metadata": {},
   "outputs": [
    {
     "data": {
      "text/plain": [
       "598"
      ]
     },
     "execution_count": 4,
     "metadata": {},
     "output_type": "execute_result"
    }
   ],
   "source": [
    "# https://scryfall.com/docs/api/frames\n",
    "df = pd.read_json(\"https://api.scryfall.com/cards/search?q=frame:showcase\")\n",
    "df[\"total_cards\"][0]"
   ]
  },
  {
   "cell_type": "markdown",
   "id": "2edcdcfc",
   "metadata": {},
   "source": [
    "### Number of keyword abilities"
   ]
  },
  {
   "cell_type": "code",
   "execution_count": 25,
   "id": "d6ff2292",
   "metadata": {},
   "outputs": [
    {
     "data": {
      "text/plain": [
       "180"
      ]
     },
     "execution_count": 25,
     "metadata": {},
     "output_type": "execute_result"
    }
   ],
   "source": [
    "# From Absorb to Wizardcycling, there are 180 keyword abilities that can appear on cards\n",
    "\n",
    "df = pd.read_json(\"https://api.scryfall.com/catalog/keyword-abilities\")\n",
    "# df.sort_values(by=\"data\", ascending=True)\n",
    "df[\"total_values\"][0]"
   ]
  },
  {
   "cell_type": "markdown",
   "id": "25440406",
   "metadata": {},
   "source": [
    "### Number of new keyword abilities introduced since March 2020 (Ikoria)"
   ]
  },
  {
   "cell_type": "code",
   "execution_count": 26,
   "id": "0a91e45f",
   "metadata": {},
   "outputs": [],
   "source": [
    "# 22 out of 180, roughly 12% of brand new abilities appeared since 2020\n",
    "# https://datawrapper.dwcdn.net/vf0va/1/"
   ]
  },
  {
   "cell_type": "markdown",
   "id": "5e86e032",
   "metadata": {},
   "source": [
    "### Most iconic cards in Magic / which cards have been reprinted the most times"
   ]
  },
  {
   "cell_type": "code",
   "execution_count": 47,
   "id": "99208a00",
   "metadata": {},
   "outputs": [
    {
     "data": {
      "text/plain": [
       "{'object': 'card',\n",
       " 'id': 'a457f404-ddf1-40fa-b0f0-23c8598533f4',\n",
       " 'oracle_id': 'cc187110-1148-4090-bbb8-e205694a39f5',\n",
       " 'multiverse_ids': [],\n",
       " 'tcgplayer_id': 275336,\n",
       " 'name': 'Counterspell',\n",
       " 'lang': 'en',\n",
       " 'released_at': '2022-04-22',\n",
       " 'uri': 'https://api.scryfall.com/cards/a457f404-ddf1-40fa-b0f0-23c8598533f4',\n",
       " 'scryfall_uri': 'https://scryfall.com/card/phed/33/counterspell?utm_source=api',\n",
       " 'layout': 'normal',\n",
       " 'highres_image': True,\n",
       " 'image_status': 'highres_scan',\n",
       " 'image_uris': {'small': 'https://c1.scryfall.com/file/scryfall-cards/small/front/a/4/a457f404-ddf1-40fa-b0f0-23c8598533f4.jpg?1645328634',\n",
       "  'normal': 'https://c1.scryfall.com/file/scryfall-cards/normal/front/a/4/a457f404-ddf1-40fa-b0f0-23c8598533f4.jpg?1645328634',\n",
       "  'large': 'https://c1.scryfall.com/file/scryfall-cards/large/front/a/4/a457f404-ddf1-40fa-b0f0-23c8598533f4.jpg?1645328634',\n",
       "  'png': 'https://c1.scryfall.com/file/scryfall-cards/png/front/a/4/a457f404-ddf1-40fa-b0f0-23c8598533f4.png?1645328634',\n",
       "  'art_crop': 'https://c1.scryfall.com/file/scryfall-cards/art_crop/front/a/4/a457f404-ddf1-40fa-b0f0-23c8598533f4.jpg?1645328634',\n",
       "  'border_crop': 'https://c1.scryfall.com/file/scryfall-cards/border_crop/front/a/4/a457f404-ddf1-40fa-b0f0-23c8598533f4.jpg?1645328634'},\n",
       " 'mana_cost': '{U}{U}',\n",
       " 'cmc': 2.0,\n",
       " 'type_line': 'Instant',\n",
       " 'oracle_text': 'Counter target spell.',\n",
       " 'colors': ['U'],\n",
       " 'color_identity': ['U'],\n",
       " 'keywords': [],\n",
       " 'legalities': {'standard': 'not_legal',\n",
       "  'future': 'not_legal',\n",
       "  'historic': 'banned',\n",
       "  'gladiator': 'legal',\n",
       "  'pioneer': 'not_legal',\n",
       "  'explorer': 'not_legal',\n",
       "  'modern': 'legal',\n",
       "  'legacy': 'legal',\n",
       "  'pauper': 'legal',\n",
       "  'vintage': 'legal',\n",
       "  'penny': 'not_legal',\n",
       "  'commander': 'legal',\n",
       "  'brawl': 'not_legal',\n",
       "  'historicbrawl': 'legal',\n",
       "  'alchemy': 'not_legal',\n",
       "  'paupercommander': 'legal',\n",
       "  'duel': 'legal',\n",
       "  'oldschool': 'not_legal',\n",
       "  'premodern': 'legal'},\n",
       " 'games': ['paper'],\n",
       " 'reserved': False,\n",
       " 'foil': False,\n",
       " 'nonfoil': True,\n",
       " 'finishes': ['nonfoil'],\n",
       " 'oversized': False,\n",
       " 'promo': False,\n",
       " 'reprint': True,\n",
       " 'variation': False,\n",
       " 'set_id': 'bec6e2d9-9037-4556-9113-d3769c8ed548',\n",
       " 'set': 'phed',\n",
       " 'set_name': 'Heads I Win, Tails You Lose',\n",
       " 'set_type': 'commander',\n",
       " 'set_uri': 'https://api.scryfall.com/sets/bec6e2d9-9037-4556-9113-d3769c8ed548',\n",
       " 'set_search_uri': 'https://api.scryfall.com/cards/search?order=set&q=e%3Aphed&unique=prints',\n",
       " 'scryfall_set_uri': 'https://scryfall.com/sets/phed?utm_source=api',\n",
       " 'rulings_uri': 'https://api.scryfall.com/cards/a457f404-ddf1-40fa-b0f0-23c8598533f4/rulings',\n",
       " 'prints_search_uri': 'https://api.scryfall.com/cards/search?order=released&q=oracleid%3Acc187110-1148-4090-bbb8-e205694a39f5&unique=prints',\n",
       " 'collector_number': '33',\n",
       " 'digital': False,\n",
       " 'rarity': 'common',\n",
       " 'card_back_id': '0aeebaf5-8c7d-4636-9e82-8c27447861f7',\n",
       " 'artist': 'Zack Stella',\n",
       " 'artist_ids': ['17bc7f55-958b-43f4-bb40-09746d05b3f9'],\n",
       " 'illustration_id': '1044055e-a362-4edb-8101-96655e15da95',\n",
       " 'border_color': 'black',\n",
       " 'frame': '2015',\n",
       " 'full_art': False,\n",
       " 'textless': False,\n",
       " 'booster': False,\n",
       " 'story_spotlight': False,\n",
       " 'edhrec_rank': 17,\n",
       " 'penny_rank': 7,\n",
       " 'prices': {'usd': None,\n",
       "  'usd_foil': None,\n",
       "  'usd_etched': None,\n",
       "  'eur': None,\n",
       "  'eur_foil': None,\n",
       "  'tix': None},\n",
       " 'related_uris': {'tcgplayer_infinite_articles': 'https://infinite.tcgplayer.com/search?contentMode=article&game=magic&partner=scryfall&q=Counterspell&utm_campaign=affiliate&utm_medium=api&utm_source=scryfall',\n",
       "  'tcgplayer_infinite_decks': 'https://infinite.tcgplayer.com/search?contentMode=deck&game=magic&partner=scryfall&q=Counterspell&utm_campaign=affiliate&utm_medium=api&utm_source=scryfall',\n",
       "  'edhrec': 'https://edhrec.com/route/?cc=Counterspell'},\n",
       " 'purchase_uris': {'tcgplayer': 'https://www.tcgplayer.com/product/275336?page=1&utm_campaign=affiliate&utm_medium=api&utm_source=scryfall',\n",
       "  'cardmarket': 'https://www.cardmarket.com/en/Magic/Products/Search?referrer=scryfall&searchString=Counterspell&utm_campaign=card_prices&utm_medium=text&utm_source=scryfall',\n",
       "  'cardhoarder': 'https://www.cardhoarder.com/cards?affiliate_id=scryfall&data%5Bsearch%5D=Counterspell&ref=card-profile&utm_campaign=affiliate&utm_medium=card&utm_source=scryfall'}}"
      ]
     },
     "execution_count": 47,
     "metadata": {},
     "output_type": "execute_result"
    }
   ],
   "source": [
    "# https://scryfall.com/search?q=f%3Acommander+prints%3E50\n",
    "# Counterspell and Swords to Plowshares have been printed more than 50 times each\n",
    "\n",
    "df = pd.read_json(\"https://api.scryfall.com/cards/search?q=f%3Acommander+prints%3E50\")\n",
    "df[\"data\"][0]"
   ]
  },
  {
   "cell_type": "markdown",
   "id": "ff9d8eca",
   "metadata": {},
   "source": [
    "# TODO - DOUBLE CHECK NUMBERS"
   ]
  },
  {
   "cell_type": "code",
   "execution_count": 42,
   "id": "432d829b",
   "metadata": {},
   "outputs": [
    {
     "data": {
      "text/plain": [
       "3334"
      ]
     },
     "execution_count": 42,
     "metadata": {},
     "output_type": "execute_result"
    }
   ],
   "source": [
    "num_2020 = pd.read_json(\"https://api.scryfall.com/cards/search?q=f:commander+year:2020+(in:expansion+or+in:core)\")\n",
    "num_2021 = pd.read_json(\"https://api.scryfall.com/cards/search?q=f:commander+year:2021+(in:expansion+or+in:core)\")\n",
    "num_2022 = pd.read_json(\"https://api.scryfall.com/cards/search?q=f:commander+year:2022+(in:expansion+or+in:core)\")\n",
    "\n",
    "num_2020[\"total_cards\"][0]"
   ]
  },
  {
   "cell_type": "code",
   "execution_count": 43,
   "id": "c7119647",
   "metadata": {},
   "outputs": [
    {
     "data": {
      "text/plain": [
       "2928"
      ]
     },
     "execution_count": 43,
     "metadata": {},
     "output_type": "execute_result"
    }
   ],
   "source": [
    "num_2021[\"total_cards\"][0]"
   ]
  },
  {
   "cell_type": "code",
   "execution_count": 44,
   "id": "73a9383f",
   "metadata": {},
   "outputs": [
    {
     "data": {
      "text/plain": [
       "2171"
      ]
     },
     "execution_count": 44,
     "metadata": {},
     "output_type": "execute_result"
    }
   ],
   "source": [
    "num_2022[\"total_cards\"][0]"
   ]
  }
 ],
 "metadata": {
  "kernelspec": {
   "display_name": "Python 3 (ipykernel)",
   "language": "python",
   "name": "python3"
  },
  "language_info": {
   "codemirror_mode": {
    "name": "ipython",
    "version": 3
   },
   "file_extension": ".py",
   "mimetype": "text/x-python",
   "name": "python",
   "nbconvert_exporter": "python",
   "pygments_lexer": "ipython3",
   "version": "3.10.3"
  }
 },
 "nbformat": 4,
 "nbformat_minor": 5
}
